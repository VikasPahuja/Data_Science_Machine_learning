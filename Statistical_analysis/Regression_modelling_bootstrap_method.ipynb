{
  "cells": [
    {
      "cell_type": "markdown",
      "id": "557adaad-3304-4b57-8782-685cfe4cee08",
      "metadata": {
        "jp-MarkdownHeadingCollapsed": true,
        "tags": [],
        "id": "557adaad-3304-4b57-8782-685cfe4cee08"
      },
      "source": [
        "Statistics for Artificial Intelligence and Data Science\n",
        "\n",
        "\n",
        "Additional Analysis of the Storks Data\n",
        "\n",
        "\n",
        "\n",
        " 1. Part 1.1: : Implement two regression models for the number of births\n",
        "     1. Fitting regression model\n",
        "     1. plot and metrices\n",
        "     1. Scatter plots\n",
        "   \n",
        " 2. Part 1:2 Use of bootstrap to compare r2\n",
        "     1. Calculating difference\n",
        "     1. Plotting distribution of the differences\n",
        "     1. Estimating confidence intervals\n",
        "    \n",
        " 3. Part 2.1: Implementation of the regression models for the number of storks\n",
        "     1. Fitting regression model\n",
        "     1. plot and metrices\n",
        "     1. Scatter plots\n",
        "    \n",
        " 4. Part 2.2: Use of bootstrap to compare RMSE\n",
        "     1. Calculating difference\n",
        "     1. Plotting distribution of the differences\n",
        "     1. Estimating confidence intervals\n",
        "    \n",
        "    "
      ]
    },
    {
      "cell_type": "code",
      "execution_count": null,
      "id": "4aa510fd-ef07-47c6-ae21-d7cf198abdf3",
      "metadata": {
        "id": "4aa510fd-ef07-47c6-ae21-d7cf198abdf3"
      },
      "outputs": [],
      "source": [
        "import pandas as pd\n",
        "import numpy as np\n",
        "import scipy.stats as stats\n",
        "import matplotlib.pyplot as plt\n",
        "from sklearn.linear_model import LinearRegression\n",
        "from sklearn.metrics import mean_squared_error\n",
        "from sklearn.utils import resample\n",
        "from sklearn.preprocessing import StandardScaler\n",
        "from sklearn.metrics import r2_score\n",
        "from math import sqrt\n",
        "%matplotlib inline"
      ]
    },
    {
      "cell_type": "markdown",
      "id": "e2504dc7-b52b-42b3-81ea-b63b9e51e628",
      "metadata": {
        "id": "e2504dc7-b52b-42b3-81ea-b63b9e51e628"
      },
      "source": [
        "## Part 1.1: : Implement two regression models for the number of births"
      ]
    },
    {
      "cell_type": "code",
      "execution_count": null,
      "id": "2fcaa6e9-fc62-4ae8-8ff4-e86d935c40dd",
      "metadata": {
        "id": "2fcaa6e9-fc62-4ae8-8ff4-e86d935c40dd",
        "outputId": "769610b6-a01d-474c-d2d6-c0b853da4029"
      },
      "outputs": [
        {
          "data": {
            "text/html": [
              "<div>\n",
              "<style scoped>\n",
              "    .dataframe tbody tr th:only-of-type {\n",
              "        vertical-align: middle;\n",
              "    }\n",
              "\n",
              "    .dataframe tbody tr th {\n",
              "        vertical-align: top;\n",
              "    }\n",
              "\n",
              "    .dataframe thead th {\n",
              "        text-align: right;\n",
              "    }\n",
              "</style>\n",
              "<table border=\"1\" class=\"dataframe\">\n",
              "  <thead>\n",
              "    <tr style=\"text-align: right;\">\n",
              "      <th></th>\n",
              "      <th>Country</th>\n",
              "      <th>Area</th>\n",
              "      <th>Storks</th>\n",
              "      <th>Humans</th>\n",
              "      <th>BirthRate</th>\n",
              "      <th>SuitableAreaPercent</th>\n",
              "    </tr>\n",
              "  </thead>\n",
              "  <tbody>\n",
              "    <tr>\n",
              "      <th>0</th>\n",
              "      <td>Albania</td>\n",
              "      <td>28750</td>\n",
              "      <td>100</td>\n",
              "      <td>3.2</td>\n",
              "      <td>83</td>\n",
              "      <td>55.68</td>\n",
              "    </tr>\n",
              "    <tr>\n",
              "      <th>1</th>\n",
              "      <td>Austria</td>\n",
              "      <td>83860</td>\n",
              "      <td>300</td>\n",
              "      <td>7.6</td>\n",
              "      <td>87</td>\n",
              "      <td>38.34</td>\n",
              "    </tr>\n",
              "    <tr>\n",
              "      <th>2</th>\n",
              "      <td>Belgium</td>\n",
              "      <td>30520</td>\n",
              "      <td>1</td>\n",
              "      <td>9.9</td>\n",
              "      <td>118</td>\n",
              "      <td>65.93</td>\n",
              "    </tr>\n",
              "    <tr>\n",
              "      <th>3</th>\n",
              "      <td>Bulgaria</td>\n",
              "      <td>111000</td>\n",
              "      <td>5000</td>\n",
              "      <td>9.0</td>\n",
              "      <td>117</td>\n",
              "      <td>57.99</td>\n",
              "    </tr>\n",
              "    <tr>\n",
              "      <th>4</th>\n",
              "      <td>Denmark</td>\n",
              "      <td>43100</td>\n",
              "      <td>9</td>\n",
              "      <td>5.1</td>\n",
              "      <td>59</td>\n",
              "      <td>81.46</td>\n",
              "    </tr>\n",
              "    <tr>\n",
              "      <th>5</th>\n",
              "      <td>France</td>\n",
              "      <td>544000</td>\n",
              "      <td>140</td>\n",
              "      <td>56.0</td>\n",
              "      <td>774</td>\n",
              "      <td>58.47</td>\n",
              "    </tr>\n",
              "    <tr>\n",
              "      <th>6</th>\n",
              "      <td>Germany</td>\n",
              "      <td>357000</td>\n",
              "      <td>3300</td>\n",
              "      <td>78.0</td>\n",
              "      <td>901</td>\n",
              "      <td>59.81</td>\n",
              "    </tr>\n",
              "    <tr>\n",
              "      <th>7</th>\n",
              "      <td>Greece</td>\n",
              "      <td>132000</td>\n",
              "      <td>2500</td>\n",
              "      <td>10.0</td>\n",
              "      <td>106</td>\n",
              "      <td>47.31</td>\n",
              "    </tr>\n",
              "    <tr>\n",
              "      <th>8</th>\n",
              "      <td>Holland</td>\n",
              "      <td>41900</td>\n",
              "      <td>4</td>\n",
              "      <td>15.0</td>\n",
              "      <td>188</td>\n",
              "      <td>70.96</td>\n",
              "    </tr>\n",
              "    <tr>\n",
              "      <th>9</th>\n",
              "      <td>Hungary</td>\n",
              "      <td>93000</td>\n",
              "      <td>5000</td>\n",
              "      <td>11.0</td>\n",
              "      <td>124</td>\n",
              "      <td>75.86</td>\n",
              "    </tr>\n",
              "    <tr>\n",
              "      <th>10</th>\n",
              "      <td>Italy</td>\n",
              "      <td>301280</td>\n",
              "      <td>5</td>\n",
              "      <td>57.0</td>\n",
              "      <td>551</td>\n",
              "      <td>60.30</td>\n",
              "    </tr>\n",
              "    <tr>\n",
              "      <th>11</th>\n",
              "      <td>Poland</td>\n",
              "      <td>312680</td>\n",
              "      <td>30000</td>\n",
              "      <td>38.0</td>\n",
              "      <td>610</td>\n",
              "      <td>64.09</td>\n",
              "    </tr>\n",
              "    <tr>\n",
              "      <th>12</th>\n",
              "      <td>Portugal</td>\n",
              "      <td>92390</td>\n",
              "      <td>1500</td>\n",
              "      <td>10.0</td>\n",
              "      <td>120</td>\n",
              "      <td>52.51</td>\n",
              "    </tr>\n",
              "    <tr>\n",
              "      <th>13</th>\n",
              "      <td>Romania</td>\n",
              "      <td>237500</td>\n",
              "      <td>5000</td>\n",
              "      <td>23.0</td>\n",
              "      <td>367</td>\n",
              "      <td>62.49</td>\n",
              "    </tr>\n",
              "    <tr>\n",
              "      <th>14</th>\n",
              "      <td>Spain</td>\n",
              "      <td>504750</td>\n",
              "      <td>8000</td>\n",
              "      <td>39.0</td>\n",
              "      <td>439</td>\n",
              "      <td>59.57</td>\n",
              "    </tr>\n",
              "    <tr>\n",
              "      <th>15</th>\n",
              "      <td>Switzerland</td>\n",
              "      <td>41290</td>\n",
              "      <td>150</td>\n",
              "      <td>6.7</td>\n",
              "      <td>82</td>\n",
              "      <td>43.19</td>\n",
              "    </tr>\n",
              "    <tr>\n",
              "      <th>16</th>\n",
              "      <td>Turkey</td>\n",
              "      <td>779450</td>\n",
              "      <td>25000</td>\n",
              "      <td>56.0</td>\n",
              "      <td>1576</td>\n",
              "      <td>65.97</td>\n",
              "    </tr>\n",
              "  </tbody>\n",
              "</table>\n",
              "</div>"
            ],
            "text/plain": [
              "        Country    Area  Storks  Humans  BirthRate  SuitableAreaPercent\n",
              "0       Albania   28750     100     3.2         83                55.68\n",
              "1       Austria   83860     300     7.6         87                38.34\n",
              "2       Belgium   30520       1     9.9        118                65.93\n",
              "3      Bulgaria  111000    5000     9.0        117                57.99\n",
              "4       Denmark   43100       9     5.1         59                81.46\n",
              "5        France  544000     140    56.0        774                58.47\n",
              "6       Germany  357000    3300    78.0        901                59.81\n",
              "7        Greece  132000    2500    10.0        106                47.31\n",
              "8       Holland   41900       4    15.0        188                70.96\n",
              "9       Hungary   93000    5000    11.0        124                75.86\n",
              "10        Italy  301280       5    57.0        551                60.30\n",
              "11       Poland  312680   30000    38.0        610                64.09\n",
              "12     Portugal   92390    1500    10.0        120                52.51\n",
              "13      Romania  237500    5000    23.0        367                62.49\n",
              "14        Spain  504750    8000    39.0        439                59.57\n",
              "15  Switzerland   41290     150     6.7         82                43.19\n",
              "16       Turkey  779450   25000    56.0       1576                65.97"
            ]
          },
          "execution_count": 2,
          "metadata": {},
          "output_type": "execute_result"
        }
      ],
      "source": [
        "df1 = pd.read_csv('storks.csv')\n",
        "df1"
      ]
    },
    {
      "cell_type": "markdown",
      "id": "6cf42b92-dd07-49d4-a185-7e4f4befca7d",
      "metadata": {
        "id": "6cf42b92-dd07-49d4-a185-7e4f4befca7d"
      },
      "source": [
        "### Scatter plots "
      ]
    },
    {
      "cell_type": "code",
      "execution_count": null,
      "id": "853fb0cb-3f51-47d2-8001-1d40cc2ce638",
      "metadata": {
        "id": "853fb0cb-3f51-47d2-8001-1d40cc2ce638",
        "outputId": "8bcfe4ad-fe8f-47a7-adf4-4ee277999bf9"
      },
      "outputs": [
        {
          "data": {
            "text/plain": [
              "<AxesSubplot:xlabel='Humans', ylabel='BirthRate'>"
            ]
          },
          "execution_count": 3,
          "metadata": {},
          "output_type": "execute_result"
        },
        {
          "data": {
            "image/png": "[encoded data removed]",
            "text/plain": [
              "<Figure size 648x936 with 2 Axes>"
            ]
          },
          "metadata": {
            "needs_background": "light"
          },
          "output_type": "display_data"
        }
      ],
      "source": [
        "fig, (a1,a2) = plt.subplots(2, 1, figsize=(9,13))\n",
        "\n",
        "df1.plot(kind='scatter',  x='Storks', y='BirthRate', ax=a1)\n",
        "df1.plot(kind='scatter',  x='Humans', y='BirthRate', ax=a2)\n"
      ]
    },
    {
      "cell_type": "markdown",
      "id": "d6f6d6a9-a018-4ff2-ad9d-4155d8a881c8",
      "metadata": {
        "id": "d6f6d6a9-a018-4ff2-ad9d-4155d8a881c8"
      },
      "source": [
        "### The fit of the regression models"
      ]
    },
    {
      "cell_type": "code",
      "execution_count": null,
      "id": "370b5d3b-f1bb-4b6e-b95a-dc2e92b1644c",
      "metadata": {
        "id": "370b5d3b-f1bb-4b6e-b95a-dc2e92b1644c"
      },
      "outputs": [],
      "source": [
        "y1 = df1.BirthRate\n",
        "X1 = np.column_stack([df1.Storks])"
      ]
    },
    {
      "cell_type": "code",
      "execution_count": null,
      "id": "24211c7a-0c06-4247-8e0c-9843cdff049f",
      "metadata": {
        "id": "24211c7a-0c06-4247-8e0c-9843cdff049f",
        "outputId": "729fe474-53b4-4328-fc34-61d65aa56bea"
      },
      "outputs": [
        {
          "name": "stdout",
          "output_type": "stream",
          "text": [
            "The R2 coefficient of determination is 0.385\n",
            "The intercept is 225.0\n",
            "Estimated regression coefficient  is 0.03\n",
            "Root of the mean squared error: 312.03\n"
          ]
        }
      ],
      "source": [
        "reg = LinearRegression().fit(X1, y1)\n",
        "y1_hat = reg.predict(X1)\n",
        "print('The R2 coefficient of determination is %4.3f' % reg.score(X1, y1))\n",
        "print('The intercept is %4.1f' % reg.intercept_)\n",
        "beta_BirthRate = reg.coef_\n",
        "print('Estimated regression coefficient  is %4.2f' % beta_BirthRate)\n",
        "print('Root of the mean squared error: %.2f'% mean_squared_error(y1, y1_hat, squared=False))\n"
      ]
    },
    {
      "cell_type": "markdown",
      "id": "fe8efd34-a237-4533-af3b-92590effa4e9",
      "metadata": {
        "id": "fe8efd34-a237-4533-af3b-92590effa4e9"
      },
      "source": [
        "### plots and metrics"
      ]
    },
    {
      "cell_type": "code",
      "execution_count": null,
      "id": "b186c830-1043-4a55-aa99-ebbeefae1b1b",
      "metadata": {
        "id": "b186c830-1043-4a55-aa99-ebbeefae1b1b",
        "outputId": "020378b0-f29f-427f-c174-ebaceee93d2e"
      },
      "outputs": [
        {
          "data": {
            "text/plain": [
              "Text(0, 0.5, 'Actual Value')"
            ]
          },
          "execution_count": 6,
          "metadata": {},
          "output_type": "execute_result"
        },
        {
          "data": {
            "image/png": "[encoded data removed]",
            "text/plain": [
              "<Figure size 720x360 with 1 Axes>"
            ]
          },
          "metadata": {
            "needs_background": "light"
          },
          "output_type": "display_data"
        }
      ],
      "source": [
        "# Plot outputs\n",
        "fig, a = plt.subplots(1,1,figsize=(10,5))\n",
        "a.scatter(y1_hat, y1,  color='black')\n",
        "a.plot(y1_hat, y1_hat, color='blue', linewidth=3)\n",
        "\n",
        "# two_std = residuals.std() * 2\n",
        "# a.errorbar(y_hat, y, yerr=two_std, fmt='.k')\n",
        "\n",
        "a.set_xlabel('Predicted Value')\n",
        "a.set_ylabel('Actual Value')"
      ]
    },
    {
      "cell_type": "markdown",
      "id": "42f81831-c778-4ff1-86bf-a9032cbf351e",
      "metadata": {
        "id": "42f81831-c778-4ff1-86bf-a9032cbf351e"
      },
      "source": [
        "### Population size"
      ]
    },
    {
      "cell_type": "code",
      "execution_count": null,
      "id": "888c61b5-55d2-49cf-a877-ca4b453276bd",
      "metadata": {
        "id": "888c61b5-55d2-49cf-a877-ca4b453276bd"
      },
      "outputs": [],
      "source": [
        "y2 = df1.BirthRate\n",
        "X2 = np.column_stack([df1.Humans])"
      ]
    },
    {
      "cell_type": "markdown",
      "id": "a9c6b595-7ed8-4015-863d-266617bbf833",
      "metadata": {
        "id": "a9c6b595-7ed8-4015-863d-266617bbf833"
      },
      "source": [
        "### Fit regression model"
      ]
    },
    {
      "cell_type": "code",
      "execution_count": null,
      "id": "7ce9156b-b4d2-41d5-a6c1-2a99b0582184",
      "metadata": {
        "id": "7ce9156b-b4d2-41d5-a6c1-2a99b0582184",
        "outputId": "2b2ffb34-0ca5-4f4a-a349-65813e78cabe"
      },
      "outputs": [
        {
          "name": "stdout",
          "output_type": "stream",
          "text": [
            "The R2 coefficient of determination is 0.725\n",
            "The intercept is -8.4\n",
            "Estimated regression coefficient for Humans is 14.83\n",
            "Root of the mean squared error: 208.78\n"
          ]
        }
      ],
      "source": [
        "reg = LinearRegression().fit(X2, y2)\n",
        "y2_hat = reg.predict(X2)\n",
        "print('The R2 coefficient of determination is %4.3f' % reg.score(X2, y2))\n",
        "print('The intercept is %4.1f' % reg.intercept_)\n",
        "beta_BirthRate = reg.coef_\n",
        "print('Estimated regression coefficient for Humans is %4.2f' % beta_BirthRate)\n",
        "print('Root of the mean squared error: %.2f'% mean_squared_error(y2, y2_hat, squared=False))"
      ]
    },
    {
      "cell_type": "markdown",
      "id": "cdf83194-01ed-4c54-94be-892ae65f3580",
      "metadata": {
        "id": "cdf83194-01ed-4c54-94be-892ae65f3580"
      },
      "source": [
        "### Plot & metrices"
      ]
    },
    {
      "cell_type": "code",
      "execution_count": null,
      "id": "ac049d73-a44d-4afc-9d3d-9c14f6ca073d",
      "metadata": {
        "id": "ac049d73-a44d-4afc-9d3d-9c14f6ca073d",
        "outputId": "e4a4598a-755c-4132-e670-715edcee8cd2"
      },
      "outputs": [
        {
          "data": {
            "text/plain": [
              "Text(0, 0.5, 'Actual Value')"
            ]
          },
          "execution_count": 9,
          "metadata": {},
          "output_type": "execute_result"
        },
        {
          "data": {
            "image/png": "[encoded data removed]",
            "text/plain": [
              "<Figure size 720x360 with 1 Axes>"
            ]
          },
          "metadata": {
            "needs_background": "light"
          },
          "output_type": "display_data"
        }
      ],
      "source": [
        "# Plot outputs\n",
        "fig, a = plt.subplots(1,1,figsize=(10,5))\n",
        "a.scatter(y2_hat, y2,  color='black')\n",
        "a.plot(y2_hat, y2_hat, color='blue', linewidth=3)\n",
        "\n",
        "# two_std = residuals.std() * 2\n",
        "# a.errorbar(y_hat, y, yerr=two_std, fmt='.k')\n",
        "\n",
        "a.set_xlabel('Predicted Value')\n",
        "a.set_ylabel('Actual Value')"
      ]
    },
    {
      "cell_type": "markdown",
      "id": "ee6c72c7-3b88-41c9-a422-af535acea8f1",
      "metadata": {
        "id": "ee6c72c7-3b88-41c9-a422-af535acea8f1"
      },
      "source": [
        "## Part 1.2 The bootstrap distribution"
      ]
    },
    {
      "cell_type": "code",
      "execution_count": null,
      "id": "9493e034-cf4a-4b2b-b793-bca4e939ca24",
      "metadata": {
        "id": "9493e034-cf4a-4b2b-b793-bca4e939ca24"
      },
      "outputs": [],
      "source": [
        "def bootstrapC(data, cols, repeats, func):\n",
        "    result = pd.DataFrame(data = dict([(c, np.empty(repeats)) for c in cols]))\n",
        "    \n",
        "    for i in range(0, repeats):\n",
        "        result.iloc[i] = func(resample(data)) # default is to resample, same size\n",
        "    return result\n",
        "\n",
        "import warnings\n",
        "warnings.filterwarnings('ignore')"
      ]
    },
    {
      "cell_type": "code",
      "execution_count": null,
      "id": "56693f06-c019-4da1-8eac-e04ae82df3b9",
      "metadata": {
        "id": "56693f06-c019-4da1-8eac-e04ae82df3b9",
        "outputId": "9b55590b-d1e4-483d-89cf-a811dc912cca"
      },
      "outputs": [
        {
          "data": {
            "text/html": [
              "<div>\n",
              "<style scoped>\n",
              "    .dataframe tbody tr th:only-of-type {\n",
              "        vertical-align: middle;\n",
              "    }\n",
              "\n",
              "    .dataframe tbody tr th {\n",
              "        vertical-align: top;\n",
              "    }\n",
              "\n",
              "    .dataframe thead th {\n",
              "        text-align: right;\n",
              "    }\n",
              "</style>\n",
              "<table border=\"1\" class=\"dataframe\">\n",
              "  <thead>\n",
              "    <tr style=\"text-align: right;\">\n",
              "      <th></th>\n",
              "      <th>Country</th>\n",
              "      <th>Area</th>\n",
              "      <th>Storks</th>\n",
              "      <th>Humans</th>\n",
              "      <th>BirthRate</th>\n",
              "      <th>SuitableAreaPercent</th>\n",
              "    </tr>\n",
              "  </thead>\n",
              "  <tbody>\n",
              "    <tr>\n",
              "      <th>0</th>\n",
              "      <td>Albania</td>\n",
              "      <td>28750</td>\n",
              "      <td>100</td>\n",
              "      <td>3.2</td>\n",
              "      <td>83</td>\n",
              "      <td>55.68</td>\n",
              "    </tr>\n",
              "    <tr>\n",
              "      <th>1</th>\n",
              "      <td>Austria</td>\n",
              "      <td>83860</td>\n",
              "      <td>300</td>\n",
              "      <td>7.6</td>\n",
              "      <td>87</td>\n",
              "      <td>38.34</td>\n",
              "    </tr>\n",
              "    <tr>\n",
              "      <th>2</th>\n",
              "      <td>Belgium</td>\n",
              "      <td>30520</td>\n",
              "      <td>1</td>\n",
              "      <td>9.9</td>\n",
              "      <td>118</td>\n",
              "      <td>65.93</td>\n",
              "    </tr>\n",
              "    <tr>\n",
              "      <th>3</th>\n",
              "      <td>Bulgaria</td>\n",
              "      <td>111000</td>\n",
              "      <td>5000</td>\n",
              "      <td>9.0</td>\n",
              "      <td>117</td>\n",
              "      <td>57.99</td>\n",
              "    </tr>\n",
              "    <tr>\n",
              "      <th>4</th>\n",
              "      <td>Denmark</td>\n",
              "      <td>43100</td>\n",
              "      <td>9</td>\n",
              "      <td>5.1</td>\n",
              "      <td>59</td>\n",
              "      <td>81.46</td>\n",
              "    </tr>\n",
              "    <tr>\n",
              "      <th>5</th>\n",
              "      <td>France</td>\n",
              "      <td>544000</td>\n",
              "      <td>140</td>\n",
              "      <td>56.0</td>\n",
              "      <td>774</td>\n",
              "      <td>58.47</td>\n",
              "    </tr>\n",
              "    <tr>\n",
              "      <th>6</th>\n",
              "      <td>Germany</td>\n",
              "      <td>357000</td>\n",
              "      <td>3300</td>\n",
              "      <td>78.0</td>\n",
              "      <td>901</td>\n",
              "      <td>59.81</td>\n",
              "    </tr>\n",
              "    <tr>\n",
              "      <th>7</th>\n",
              "      <td>Greece</td>\n",
              "      <td>132000</td>\n",
              "      <td>2500</td>\n",
              "      <td>10.0</td>\n",
              "      <td>106</td>\n",
              "      <td>47.31</td>\n",
              "    </tr>\n",
              "    <tr>\n",
              "      <th>8</th>\n",
              "      <td>Holland</td>\n",
              "      <td>41900</td>\n",
              "      <td>4</td>\n",
              "      <td>15.0</td>\n",
              "      <td>188</td>\n",
              "      <td>70.96</td>\n",
              "    </tr>\n",
              "    <tr>\n",
              "      <th>9</th>\n",
              "      <td>Hungary</td>\n",
              "      <td>93000</td>\n",
              "      <td>5000</td>\n",
              "      <td>11.0</td>\n",
              "      <td>124</td>\n",
              "      <td>75.86</td>\n",
              "    </tr>\n",
              "    <tr>\n",
              "      <th>10</th>\n",
              "      <td>Italy</td>\n",
              "      <td>301280</td>\n",
              "      <td>5</td>\n",
              "      <td>57.0</td>\n",
              "      <td>551</td>\n",
              "      <td>60.30</td>\n",
              "    </tr>\n",
              "    <tr>\n",
              "      <th>11</th>\n",
              "      <td>Poland</td>\n",
              "      <td>312680</td>\n",
              "      <td>30000</td>\n",
              "      <td>38.0</td>\n",
              "      <td>610</td>\n",
              "      <td>64.09</td>\n",
              "    </tr>\n",
              "    <tr>\n",
              "      <th>12</th>\n",
              "      <td>Portugal</td>\n",
              "      <td>92390</td>\n",
              "      <td>1500</td>\n",
              "      <td>10.0</td>\n",
              "      <td>120</td>\n",
              "      <td>52.51</td>\n",
              "    </tr>\n",
              "    <tr>\n",
              "      <th>13</th>\n",
              "      <td>Romania</td>\n",
              "      <td>237500</td>\n",
              "      <td>5000</td>\n",
              "      <td>23.0</td>\n",
              "      <td>367</td>\n",
              "      <td>62.49</td>\n",
              "    </tr>\n",
              "    <tr>\n",
              "      <th>14</th>\n",
              "      <td>Spain</td>\n",
              "      <td>504750</td>\n",
              "      <td>8000</td>\n",
              "      <td>39.0</td>\n",
              "      <td>439</td>\n",
              "      <td>59.57</td>\n",
              "    </tr>\n",
              "    <tr>\n",
              "      <th>15</th>\n",
              "      <td>Switzerland</td>\n",
              "      <td>41290</td>\n",
              "      <td>150</td>\n",
              "      <td>6.7</td>\n",
              "      <td>82</td>\n",
              "      <td>43.19</td>\n",
              "    </tr>\n",
              "    <tr>\n",
              "      <th>16</th>\n",
              "      <td>Turkey</td>\n",
              "      <td>779450</td>\n",
              "      <td>25000</td>\n",
              "      <td>56.0</td>\n",
              "      <td>1576</td>\n",
              "      <td>65.97</td>\n",
              "    </tr>\n",
              "  </tbody>\n",
              "</table>\n",
              "</div>"
            ],
            "text/plain": [
              "        Country    Area  Storks  Humans  BirthRate  SuitableAreaPercent\n",
              "0       Albania   28750     100     3.2         83                55.68\n",
              "1       Austria   83860     300     7.6         87                38.34\n",
              "2       Belgium   30520       1     9.9        118                65.93\n",
              "3      Bulgaria  111000    5000     9.0        117                57.99\n",
              "4       Denmark   43100       9     5.1         59                81.46\n",
              "5        France  544000     140    56.0        774                58.47\n",
              "6       Germany  357000    3300    78.0        901                59.81\n",
              "7        Greece  132000    2500    10.0        106                47.31\n",
              "8       Holland   41900       4    15.0        188                70.96\n",
              "9       Hungary   93000    5000    11.0        124                75.86\n",
              "10        Italy  301280       5    57.0        551                60.30\n",
              "11       Poland  312680   30000    38.0        610                64.09\n",
              "12     Portugal   92390    1500    10.0        120                52.51\n",
              "13      Romania  237500    5000    23.0        367                62.49\n",
              "14        Spain  504750    8000    39.0        439                59.57\n",
              "15  Switzerland   41290     150     6.7         82                43.19\n",
              "16       Turkey  779450   25000    56.0       1576                65.97"
            ]
          },
          "execution_count": 11,
          "metadata": {},
          "output_type": "execute_result"
        }
      ],
      "source": [
        "\n",
        "country_t = pd.CategoricalDtype(categories=['Albania', 'Austria', 'Belgium', 'Bulgaria', 'Denmark', 'France', 'Germany', 'Greece', 'Holland', 'Hungary', 'Italy', 'Poland', 'Portugal', 'Romania', 'Spain', 'Switzerland', 'Turkey'], ordered=False)\n",
        "types_dict = {'Country':country_t}\n",
        "\n",
        "\n",
        "Stroks = pd.read_csv('storks.csv', dtype = types_dict)\n",
        "Stroks"
      ]
    },
    {
      "cell_type": "code",
      "execution_count": null,
      "id": "5799b7d2-f90f-4bc3-9a26-561505aac274",
      "metadata": {
        "id": "5799b7d2-f90f-4bc3-9a26-561505aac274",
        "outputId": "4be68921-87cf-44ba-b7fc-f46c7c1827d7"
      },
      "outputs": [
        {
          "data": {
            "text/html": [
              "<div>\n",
              "<style scoped>\n",
              "    .dataframe tbody tr th:only-of-type {\n",
              "        vertical-align: middle;\n",
              "    }\n",
              "\n",
              "    .dataframe tbody tr th {\n",
              "        vertical-align: top;\n",
              "    }\n",
              "\n",
              "    .dataframe thead th {\n",
              "        text-align: right;\n",
              "    }\n",
              "</style>\n",
              "<table border=\"1\" class=\"dataframe\">\n",
              "  <thead>\n",
              "    <tr style=\"text-align: right;\">\n",
              "      <th></th>\n",
              "      <th>Intercept_Storks</th>\n",
              "      <th>Beta_Storks</th>\n",
              "      <th>R2_Storks</th>\n",
              "      <th>Intercept_Humans</th>\n",
              "      <th>Beta_Humans</th>\n",
              "      <th>R2_Humans</th>\n",
              "    </tr>\n",
              "  </thead>\n",
              "  <tbody>\n",
              "    <tr>\n",
              "      <th>0</th>\n",
              "      <td>174.073703</td>\n",
              "      <td>0.015606</td>\n",
              "      <td>0.216334</td>\n",
              "      <td>24.870096</td>\n",
              "      <td>11.220367</td>\n",
              "      <td>0.945012</td>\n",
              "    </tr>\n",
              "    <tr>\n",
              "      <th>1</th>\n",
              "      <td>381.999382</td>\n",
              "      <td>-0.000179</td>\n",
              "      <td>0.000003</td>\n",
              "      <td>14.392652</td>\n",
              "      <td>11.414274</td>\n",
              "      <td>0.958533</td>\n",
              "    </tr>\n",
              "    <tr>\n",
              "      <th>2</th>\n",
              "      <td>312.873600</td>\n",
              "      <td>0.024014</td>\n",
              "      <td>0.243515</td>\n",
              "      <td>8.328485</td>\n",
              "      <td>12.959398</td>\n",
              "      <td>0.699400</td>\n",
              "    </tr>\n",
              "    <tr>\n",
              "      <th>3</th>\n",
              "      <td>337.173042</td>\n",
              "      <td>0.035593</td>\n",
              "      <td>0.528910</td>\n",
              "      <td>-13.570995</td>\n",
              "      <td>16.994185</td>\n",
              "      <td>0.605587</td>\n",
              "    </tr>\n",
              "    <tr>\n",
              "      <th>4</th>\n",
              "      <td>120.393151</td>\n",
              "      <td>0.032692</td>\n",
              "      <td>0.553663</td>\n",
              "      <td>-99.135442</td>\n",
              "      <td>23.567075</td>\n",
              "      <td>0.864645</td>\n",
              "    </tr>\n",
              "    <tr>\n",
              "      <th>...</th>\n",
              "      <td>...</td>\n",
              "      <td>...</td>\n",
              "      <td>...</td>\n",
              "      <td>...</td>\n",
              "      <td>...</td>\n",
              "      <td>...</td>\n",
              "    </tr>\n",
              "    <tr>\n",
              "      <th>495</th>\n",
              "      <td>135.566039</td>\n",
              "      <td>0.054838</td>\n",
              "      <td>0.804712</td>\n",
              "      <td>-81.594416</td>\n",
              "      <td>20.447439</td>\n",
              "      <td>0.754348</td>\n",
              "    </tr>\n",
              "    <tr>\n",
              "      <th>496</th>\n",
              "      <td>158.435922</td>\n",
              "      <td>0.025490</td>\n",
              "      <td>0.500936</td>\n",
              "      <td>-51.694363</td>\n",
              "      <td>17.456311</td>\n",
              "      <td>0.701454</td>\n",
              "    </tr>\n",
              "    <tr>\n",
              "      <th>497</th>\n",
              "      <td>282.225926</td>\n",
              "      <td>0.046842</td>\n",
              "      <td>0.361472</td>\n",
              "      <td>25.796911</td>\n",
              "      <td>12.734999</td>\n",
              "      <td>0.742136</td>\n",
              "    </tr>\n",
              "    <tr>\n",
              "      <th>498</th>\n",
              "      <td>246.761656</td>\n",
              "      <td>0.045656</td>\n",
              "      <td>0.476257</td>\n",
              "      <td>-19.453658</td>\n",
              "      <td>14.428410</td>\n",
              "      <td>0.683663</td>\n",
              "    </tr>\n",
              "    <tr>\n",
              "      <th>499</th>\n",
              "      <td>298.429288</td>\n",
              "      <td>0.032388</td>\n",
              "      <td>0.439722</td>\n",
              "      <td>-22.556744</td>\n",
              "      <td>16.640788</td>\n",
              "      <td>0.663267</td>\n",
              "    </tr>\n",
              "  </tbody>\n",
              "</table>\n",
              "<p>500 rows × 6 columns</p>\n",
              "</div>"
            ],
            "text/plain": [
              "     Intercept_Storks  Beta_Storks  R2_Storks  Intercept_Humans  Beta_Humans  \\\n",
              "0          174.073703     0.015606   0.216334         24.870096    11.220367   \n",
              "1          381.999382    -0.000179   0.000003         14.392652    11.414274   \n",
              "2          312.873600     0.024014   0.243515          8.328485    12.959398   \n",
              "3          337.173042     0.035593   0.528910        -13.570995    16.994185   \n",
              "4          120.393151     0.032692   0.553663        -99.135442    23.567075   \n",
              "..                ...          ...        ...               ...          ...   \n",
              "495        135.566039     0.054838   0.804712        -81.594416    20.447439   \n",
              "496        158.435922     0.025490   0.500936        -51.694363    17.456311   \n",
              "497        282.225926     0.046842   0.361472         25.796911    12.734999   \n",
              "498        246.761656     0.045656   0.476257        -19.453658    14.428410   \n",
              "499        298.429288     0.032388   0.439722        -22.556744    16.640788   \n",
              "\n",
              "     R2_Humans  \n",
              "0     0.945012  \n",
              "1     0.958533  \n",
              "2     0.699400  \n",
              "3     0.605587  \n",
              "4     0.864645  \n",
              "..         ...  \n",
              "495   0.754348  \n",
              "496   0.701454  \n",
              "497   0.742136  \n",
              "498   0.683663  \n",
              "499   0.663267  \n",
              "\n",
              "[500 rows x 6 columns]"
            ]
          },
          "execution_count": 12,
          "metadata": {},
          "output_type": "execute_result"
        }
      ],
      "source": [
        "def doRegression(Stroks) :\n",
        "    y3 = Stroks.BirthRate\n",
        "    X3= np.column_stack([Stroks.Storks])\n",
        "    y4 = Stroks.BirthRate\n",
        "    X4= np.column_stack([Stroks.Humans])\n",
        "    reg3 = LinearRegression().fit(X3, y3)\n",
        "    reg4 = LinearRegression().fit(X4, y4)\n",
        "    beta_Storks = reg3.coef_\n",
        "    beta_Humans = reg4.coef_\n",
        "    return [reg3.intercept_, beta_Storks, reg3.score(X3, y3),reg4.intercept_, beta_Humans, reg4.score(X4, y4),] \n",
        "\n",
        "boot_data = bootstrapC(Stroks, ['Intercept_Storks', 'Beta_Storks', 'R2_Storks', 'Intercept_Humans', 'Beta_Humans', 'R2_Humans' ], 500, doRegression) \n",
        "\n",
        "boot_data\n",
        "    \n",
        "    "
      ]
    },
    {
      "cell_type": "markdown",
      "id": "d994b161-d17c-41cc-a55e-f63d42f1799d",
      "metadata": {
        "id": "d994b161-d17c-41cc-a55e-f63d42f1799d"
      },
      "source": [
        "### Difference in the r2 parameter"
      ]
    },
    {
      "cell_type": "code",
      "execution_count": null,
      "id": "98189f38-4463-41a2-9237-cd46565b9e1a",
      "metadata": {
        "id": "98189f38-4463-41a2-9237-cd46565b9e1a",
        "outputId": "156907c4-e1d5-43ab-9738-2cff7a258d02"
      },
      "outputs": [
        {
          "data": {
            "text/html": [
              "<div>\n",
              "<style scoped>\n",
              "    .dataframe tbody tr th:only-of-type {\n",
              "        vertical-align: middle;\n",
              "    }\n",
              "\n",
              "    .dataframe tbody tr th {\n",
              "        vertical-align: top;\n",
              "    }\n",
              "\n",
              "    .dataframe thead th {\n",
              "        text-align: right;\n",
              "    }\n",
              "</style>\n",
              "<table border=\"1\" class=\"dataframe\">\n",
              "  <thead>\n",
              "    <tr style=\"text-align: right;\">\n",
              "      <th></th>\n",
              "      <th>Intercept_Storks</th>\n",
              "      <th>Beta_Storks</th>\n",
              "      <th>R2_Storks</th>\n",
              "      <th>Intercept_Humans</th>\n",
              "      <th>Beta_Humans</th>\n",
              "      <th>R2_Humans</th>\n",
              "      <th>R2_Diff</th>\n",
              "    </tr>\n",
              "  </thead>\n",
              "  <tbody>\n",
              "    <tr>\n",
              "      <th>0</th>\n",
              "      <td>174.073703</td>\n",
              "      <td>0.015606</td>\n",
              "      <td>0.216334</td>\n",
              "      <td>24.870096</td>\n",
              "      <td>11.220367</td>\n",
              "      <td>0.945012</td>\n",
              "      <td>0.728678</td>\n",
              "    </tr>\n",
              "    <tr>\n",
              "      <th>1</th>\n",
              "      <td>381.999382</td>\n",
              "      <td>-0.000179</td>\n",
              "      <td>0.000003</td>\n",
              "      <td>14.392652</td>\n",
              "      <td>11.414274</td>\n",
              "      <td>0.958533</td>\n",
              "      <td>0.958530</td>\n",
              "    </tr>\n",
              "    <tr>\n",
              "      <th>2</th>\n",
              "      <td>312.873600</td>\n",
              "      <td>0.024014</td>\n",
              "      <td>0.243515</td>\n",
              "      <td>8.328485</td>\n",
              "      <td>12.959398</td>\n",
              "      <td>0.699400</td>\n",
              "      <td>0.455885</td>\n",
              "    </tr>\n",
              "    <tr>\n",
              "      <th>3</th>\n",
              "      <td>337.173042</td>\n",
              "      <td>0.035593</td>\n",
              "      <td>0.528910</td>\n",
              "      <td>-13.570995</td>\n",
              "      <td>16.994185</td>\n",
              "      <td>0.605587</td>\n",
              "      <td>0.076678</td>\n",
              "    </tr>\n",
              "    <tr>\n",
              "      <th>4</th>\n",
              "      <td>120.393151</td>\n",
              "      <td>0.032692</td>\n",
              "      <td>0.553663</td>\n",
              "      <td>-99.135442</td>\n",
              "      <td>23.567075</td>\n",
              "      <td>0.864645</td>\n",
              "      <td>0.310982</td>\n",
              "    </tr>\n",
              "    <tr>\n",
              "      <th>...</th>\n",
              "      <td>...</td>\n",
              "      <td>...</td>\n",
              "      <td>...</td>\n",
              "      <td>...</td>\n",
              "      <td>...</td>\n",
              "      <td>...</td>\n",
              "      <td>...</td>\n",
              "    </tr>\n",
              "    <tr>\n",
              "      <th>495</th>\n",
              "      <td>135.566039</td>\n",
              "      <td>0.054838</td>\n",
              "      <td>0.804712</td>\n",
              "      <td>-81.594416</td>\n",
              "      <td>20.447439</td>\n",
              "      <td>0.754348</td>\n",
              "      <td>-0.050364</td>\n",
              "    </tr>\n",
              "    <tr>\n",
              "      <th>496</th>\n",
              "      <td>158.435922</td>\n",
              "      <td>0.025490</td>\n",
              "      <td>0.500936</td>\n",
              "      <td>-51.694363</td>\n",
              "      <td>17.456311</td>\n",
              "      <td>0.701454</td>\n",
              "      <td>0.200519</td>\n",
              "    </tr>\n",
              "    <tr>\n",
              "      <th>497</th>\n",
              "      <td>282.225926</td>\n",
              "      <td>0.046842</td>\n",
              "      <td>0.361472</td>\n",
              "      <td>25.796911</td>\n",
              "      <td>12.734999</td>\n",
              "      <td>0.742136</td>\n",
              "      <td>0.380664</td>\n",
              "    </tr>\n",
              "    <tr>\n",
              "      <th>498</th>\n",
              "      <td>246.761656</td>\n",
              "      <td>0.045656</td>\n",
              "      <td>0.476257</td>\n",
              "      <td>-19.453658</td>\n",
              "      <td>14.428410</td>\n",
              "      <td>0.683663</td>\n",
              "      <td>0.207406</td>\n",
              "    </tr>\n",
              "    <tr>\n",
              "      <th>499</th>\n",
              "      <td>298.429288</td>\n",
              "      <td>0.032388</td>\n",
              "      <td>0.439722</td>\n",
              "      <td>-22.556744</td>\n",
              "      <td>16.640788</td>\n",
              "      <td>0.663267</td>\n",
              "      <td>0.223545</td>\n",
              "    </tr>\n",
              "  </tbody>\n",
              "</table>\n",
              "<p>500 rows × 7 columns</p>\n",
              "</div>"
            ],
            "text/plain": [
              "     Intercept_Storks  Beta_Storks  R2_Storks  Intercept_Humans  Beta_Humans  \\\n",
              "0          174.073703     0.015606   0.216334         24.870096    11.220367   \n",
              "1          381.999382    -0.000179   0.000003         14.392652    11.414274   \n",
              "2          312.873600     0.024014   0.243515          8.328485    12.959398   \n",
              "3          337.173042     0.035593   0.528910        -13.570995    16.994185   \n",
              "4          120.393151     0.032692   0.553663        -99.135442    23.567075   \n",
              "..                ...          ...        ...               ...          ...   \n",
              "495        135.566039     0.054838   0.804712        -81.594416    20.447439   \n",
              "496        158.435922     0.025490   0.500936        -51.694363    17.456311   \n",
              "497        282.225926     0.046842   0.361472         25.796911    12.734999   \n",
              "498        246.761656     0.045656   0.476257        -19.453658    14.428410   \n",
              "499        298.429288     0.032388   0.439722        -22.556744    16.640788   \n",
              "\n",
              "     R2_Humans   R2_Diff  \n",
              "0     0.945012  0.728678  \n",
              "1     0.958533  0.958530  \n",
              "2     0.699400  0.455885  \n",
              "3     0.605587  0.076678  \n",
              "4     0.864645  0.310982  \n",
              "..         ...       ...  \n",
              "495   0.754348 -0.050364  \n",
              "496   0.701454  0.200519  \n",
              "497   0.742136  0.380664  \n",
              "498   0.683663  0.207406  \n",
              "499   0.663267  0.223545  \n",
              "\n",
              "[500 rows x 7 columns]"
            ]
          },
          "execution_count": 13,
          "metadata": {},
          "output_type": "execute_result"
        }
      ],
      "source": [
        "boot_data['R2_Diff'] = boot_data['R2_Humans'] - boot_data['R2_Storks']\n",
        "boot_data"
      ]
    },
    {
      "cell_type": "markdown",
      "id": "30796363-384e-48a3-813a-641759c8d88b",
      "metadata": {
        "id": "30796363-384e-48a3-813a-641759c8d88b"
      },
      "source": [
        "### Plotting a distribution of the differences"
      ]
    },
    {
      "cell_type": "code",
      "execution_count": null,
      "id": "79a1f8a8-0d34-41a0-9f80-2eb93ae6afdd",
      "metadata": {
        "id": "79a1f8a8-0d34-41a0-9f80-2eb93ae6afdd",
        "outputId": "ac295117-ca4d-49ae-f241-2027f0f41c82"
      },
      "outputs": [
        {
          "data": {
            "text/plain": [
              "<AxesSubplot:>"
            ]
          },
          "execution_count": 14,
          "metadata": {},
          "output_type": "execute_result"
        },
        {
          "data": {
            "image/png": "[encoded data removed]",
            "text/plain": [
              "<Figure size 432x288 with 1 Axes>"
            ]
          },
          "metadata": {
            "needs_background": "light"
          },
          "output_type": "display_data"
        }
      ],
      "source": [
        "boot_data['R2_Diff'].hist()"
      ]
    },
    {
      "cell_type": "markdown",
      "id": "fdd2b0ce-ee62-4629-99a5-a14f5ddfea23",
      "metadata": {
        "id": "fdd2b0ce-ee62-4629-99a5-a14f5ddfea23"
      },
      "source": [
        "### The CI is given by the quantiles of the R2_Diff."
      ]
    },
    {
      "cell_type": "code",
      "execution_count": null,
      "id": "211b14dd-75af-4372-ba2c-8b44111867cd",
      "metadata": {
        "id": "211b14dd-75af-4372-ba2c-8b44111867cd",
        "outputId": "7e3ccef5-f67c-4b31-a916-4a8d86efd8f4"
      },
      "outputs": [
        {
          "name": "stdout",
          "output_type": "stream",
          "text": [
            "90% range is 0.019 to 0.878\n",
            "95% range is -0.057 to 0.933\n",
            "99% range is -0.146 to 0.964\n"
          ]
        }
      ],
      "source": [
        "print('90%% range is %4.3f to %4.3f' % \n",
        "      (boot_data.R2_Diff.quantile(0.1), boot_data.R2_Diff.quantile(0.9)))\n",
        "print('95%% range is %4.3f to %4.3f' % \n",
        "      (boot_data.R2_Diff.quantile(0.05), boot_data.R2_Diff.quantile(0.95)))\n",
        "print('99%% range is %4.3f to %4.3f' % \n",
        "      (boot_data.R2_Diff.quantile(0.01), boot_data.R2_Diff.quantile(0.99)))"
      ]
    },
    {
      "cell_type": "markdown",
      "id": "07e1a662-9fcd-4e39-b7c5-3882664d242f",
      "metadata": {
        "id": "07e1a662-9fcd-4e39-b7c5-3882664d242f"
      },
      "source": [
        "## Part 2.1: Implementation of the regression models for the number of storks"
      ]
    },
    {
      "cell_type": "markdown",
      "id": "4c93a078-b616-430c-914e-fa54928879d0",
      "metadata": {
        "id": "4c93a078-b616-430c-914e-fa54928879d0"
      },
      "source": [
        "### The fit of the regression models"
      ]
    },
    {
      "cell_type": "markdown",
      "id": "5a890b21-148f-41b7-bc03-c202cb9565d1",
      "metadata": {
        "id": "5a890b21-148f-41b7-bc03-c202cb9565d1"
      },
      "source": [
        "### Fit the regression model (Predictor land area)"
      ]
    },
    {
      "cell_type": "code",
      "execution_count": null,
      "id": "82690edf-7d32-4780-a6a5-b5d308a40c07",
      "metadata": {
        "id": "82690edf-7d32-4780-a6a5-b5d308a40c07"
      },
      "outputs": [],
      "source": [
        "y5 = df1.Storks\n",
        "X5 = np.column_stack([df1.Area])"
      ]
    },
    {
      "cell_type": "code",
      "execution_count": null,
      "id": "e7b175ca-0c0e-4160-ba58-94e922be771e",
      "metadata": {
        "id": "e7b175ca-0c0e-4160-ba58-94e922be771e",
        "outputId": "b37fd206-bdbd-4e38-e1a8-06114ff39b48"
      },
      "outputs": [
        {
          "name": "stdout",
          "output_type": "stream",
          "text": [
            "The R2 coefficient of determination is 0.336\n",
            "The intercept is -60.7\n",
            "Estimated regression coefficient  is 14.83\n",
            "Root of the mean squared error: 6984.77\n"
          ]
        }
      ],
      "source": [
        "reg5 = LinearRegression().fit(X5, y5)\n",
        "y5_hat = reg5.predict(X5)\n",
        "print('The R2 coefficient of determination is %4.3f' % reg5.score(X5, y5))\n",
        "print('The intercept is %4.1f' % reg5.intercept_)\n",
        "beta_Storks = reg.coef_\n",
        "print('Estimated regression coefficient  is %4.2f' % beta_Storks)\n",
        "print('Root of the mean squared error: %.2f'% mean_squared_error(y5, y5_hat, squared=False))"
      ]
    },
    {
      "cell_type": "markdown",
      "id": "0403c7c4-2b5c-411d-adc9-6905b34fdbd8",
      "metadata": {
        "id": "0403c7c4-2b5c-411d-adc9-6905b34fdbd8"
      },
      "source": [
        "### plots and metrics"
      ]
    },
    {
      "cell_type": "code",
      "execution_count": null,
      "id": "df50a2ea-3983-4e28-b30b-c8bff8e0ea6a",
      "metadata": {
        "id": "df50a2ea-3983-4e28-b30b-c8bff8e0ea6a",
        "outputId": "6fa1c0da-bfd5-473f-b5cb-85ed026bd500"
      },
      "outputs": [
        {
          "data": {
            "text/plain": [
              "Text(0, 0.5, 'Actual Value')"
            ]
          },
          "execution_count": 18,
          "metadata": {},
          "output_type": "execute_result"
        },
        {
          "data": {
            "image/png": "[encoded data removed]",
            "text/plain": [
              "<Figure size 720x360 with 1 Axes>"
            ]
          },
          "metadata": {
            "needs_background": "light"
          },
          "output_type": "display_data"
        }
      ],
      "source": [
        "# Plot outputs\n",
        "fig, a = plt.subplots(1,1,figsize=(10,5))\n",
        "a.scatter(y5_hat, y5,  color='black')\n",
        "a.plot(y5_hat, y5_hat, color='blue', linewidth=3)\n",
        "\n",
        "# two_std = residuals.std() * 2\n",
        "# a.errorbar(y_hat, y, yerr=two_std, fmt='.k')\n",
        "\n",
        "a.set_xlabel('Predicted Value')\n",
        "a.set_ylabel('Actual Value')"
      ]
    },
    {
      "cell_type": "markdown",
      "id": "72247682-72d1-4707-a741-467037e68725",
      "metadata": {
        "id": "72247682-72d1-4707-a741-467037e68725"
      },
      "source": [
        "### Adding column for population density and area of suitable land"
      ]
    },
    {
      "cell_type": "code",
      "execution_count": null,
      "id": "c76c4c5c-9c97-48af-add8-287497e6c91d",
      "metadata": {
        "id": "c76c4c5c-9c97-48af-add8-287497e6c91d",
        "outputId": "4208ded8-3b5f-4620-b01d-b8bfd9f518b1"
      },
      "outputs": [
        {
          "data": {
            "text/html": [
              "<div>\n",
              "<style scoped>\n",
              "    .dataframe tbody tr th:only-of-type {\n",
              "        vertical-align: middle;\n",
              "    }\n",
              "\n",
              "    .dataframe tbody tr th {\n",
              "        vertical-align: top;\n",
              "    }\n",
              "\n",
              "    .dataframe thead th {\n",
              "        text-align: right;\n",
              "    }\n",
              "</style>\n",
              "<table border=\"1\" class=\"dataframe\">\n",
              "  <thead>\n",
              "    <tr style=\"text-align: right;\">\n",
              "      <th></th>\n",
              "      <th>Country</th>\n",
              "      <th>Area</th>\n",
              "      <th>Storks</th>\n",
              "      <th>Humans</th>\n",
              "      <th>BirthRate</th>\n",
              "      <th>SuitableAreaPercent</th>\n",
              "      <th>PopDen</th>\n",
              "      <th>AreaSuitLand</th>\n",
              "    </tr>\n",
              "  </thead>\n",
              "  <tbody>\n",
              "    <tr>\n",
              "      <th>0</th>\n",
              "      <td>Albania</td>\n",
              "      <td>28750</td>\n",
              "      <td>100</td>\n",
              "      <td>3.2</td>\n",
              "      <td>83</td>\n",
              "      <td>55.68</td>\n",
              "      <td>0.000111</td>\n",
              "      <td>16008.000</td>\n",
              "    </tr>\n",
              "    <tr>\n",
              "      <th>1</th>\n",
              "      <td>Austria</td>\n",
              "      <td>83860</td>\n",
              "      <td>300</td>\n",
              "      <td>7.6</td>\n",
              "      <td>87</td>\n",
              "      <td>38.34</td>\n",
              "      <td>0.000091</td>\n",
              "      <td>32151.924</td>\n",
              "    </tr>\n",
              "    <tr>\n",
              "      <th>2</th>\n",
              "      <td>Belgium</td>\n",
              "      <td>30520</td>\n",
              "      <td>1</td>\n",
              "      <td>9.9</td>\n",
              "      <td>118</td>\n",
              "      <td>65.93</td>\n",
              "      <td>0.000324</td>\n",
              "      <td>20121.836</td>\n",
              "    </tr>\n",
              "    <tr>\n",
              "      <th>3</th>\n",
              "      <td>Bulgaria</td>\n",
              "      <td>111000</td>\n",
              "      <td>5000</td>\n",
              "      <td>9.0</td>\n",
              "      <td>117</td>\n",
              "      <td>57.99</td>\n",
              "      <td>0.000081</td>\n",
              "      <td>64368.900</td>\n",
              "    </tr>\n",
              "    <tr>\n",
              "      <th>4</th>\n",
              "      <td>Denmark</td>\n",
              "      <td>43100</td>\n",
              "      <td>9</td>\n",
              "      <td>5.1</td>\n",
              "      <td>59</td>\n",
              "      <td>81.46</td>\n",
              "      <td>0.000118</td>\n",
              "      <td>35109.260</td>\n",
              "    </tr>\n",
              "    <tr>\n",
              "      <th>5</th>\n",
              "      <td>France</td>\n",
              "      <td>544000</td>\n",
              "      <td>140</td>\n",
              "      <td>56.0</td>\n",
              "      <td>774</td>\n",
              "      <td>58.47</td>\n",
              "      <td>0.000103</td>\n",
              "      <td>318076.800</td>\n",
              "    </tr>\n",
              "    <tr>\n",
              "      <th>6</th>\n",
              "      <td>Germany</td>\n",
              "      <td>357000</td>\n",
              "      <td>3300</td>\n",
              "      <td>78.0</td>\n",
              "      <td>901</td>\n",
              "      <td>59.81</td>\n",
              "      <td>0.000218</td>\n",
              "      <td>213521.700</td>\n",
              "    </tr>\n",
              "    <tr>\n",
              "      <th>7</th>\n",
              "      <td>Greece</td>\n",
              "      <td>132000</td>\n",
              "      <td>2500</td>\n",
              "      <td>10.0</td>\n",
              "      <td>106</td>\n",
              "      <td>47.31</td>\n",
              "      <td>0.000076</td>\n",
              "      <td>62449.200</td>\n",
              "    </tr>\n",
              "    <tr>\n",
              "      <th>8</th>\n",
              "      <td>Holland</td>\n",
              "      <td>41900</td>\n",
              "      <td>4</td>\n",
              "      <td>15.0</td>\n",
              "      <td>188</td>\n",
              "      <td>70.96</td>\n",
              "      <td>0.000358</td>\n",
              "      <td>29732.240</td>\n",
              "    </tr>\n",
              "    <tr>\n",
              "      <th>9</th>\n",
              "      <td>Hungary</td>\n",
              "      <td>93000</td>\n",
              "      <td>5000</td>\n",
              "      <td>11.0</td>\n",
              "      <td>124</td>\n",
              "      <td>75.86</td>\n",
              "      <td>0.000118</td>\n",
              "      <td>70549.800</td>\n",
              "    </tr>\n",
              "    <tr>\n",
              "      <th>10</th>\n",
              "      <td>Italy</td>\n",
              "      <td>301280</td>\n",
              "      <td>5</td>\n",
              "      <td>57.0</td>\n",
              "      <td>551</td>\n",
              "      <td>60.30</td>\n",
              "      <td>0.000189</td>\n",
              "      <td>181671.840</td>\n",
              "    </tr>\n",
              "    <tr>\n",
              "      <th>11</th>\n",
              "      <td>Poland</td>\n",
              "      <td>312680</td>\n",
              "      <td>30000</td>\n",
              "      <td>38.0</td>\n",
              "      <td>610</td>\n",
              "      <td>64.09</td>\n",
              "      <td>0.000122</td>\n",
              "      <td>200396.612</td>\n",
              "    </tr>\n",
              "    <tr>\n",
              "      <th>12</th>\n",
              "      <td>Portugal</td>\n",
              "      <td>92390</td>\n",
              "      <td>1500</td>\n",
              "      <td>10.0</td>\n",
              "      <td>120</td>\n",
              "      <td>52.51</td>\n",
              "      <td>0.000108</td>\n",
              "      <td>48513.989</td>\n",
              "    </tr>\n",
              "    <tr>\n",
              "      <th>13</th>\n",
              "      <td>Romania</td>\n",
              "      <td>237500</td>\n",
              "      <td>5000</td>\n",
              "      <td>23.0</td>\n",
              "      <td>367</td>\n",
              "      <td>62.49</td>\n",
              "      <td>0.000097</td>\n",
              "      <td>148413.750</td>\n",
              "    </tr>\n",
              "    <tr>\n",
              "      <th>14</th>\n",
              "      <td>Spain</td>\n",
              "      <td>504750</td>\n",
              "      <td>8000</td>\n",
              "      <td>39.0</td>\n",
              "      <td>439</td>\n",
              "      <td>59.57</td>\n",
              "      <td>0.000077</td>\n",
              "      <td>300679.575</td>\n",
              "    </tr>\n",
              "    <tr>\n",
              "      <th>15</th>\n",
              "      <td>Switzerland</td>\n",
              "      <td>41290</td>\n",
              "      <td>150</td>\n",
              "      <td>6.7</td>\n",
              "      <td>82</td>\n",
              "      <td>43.19</td>\n",
              "      <td>0.000162</td>\n",
              "      <td>17833.151</td>\n",
              "    </tr>\n",
              "    <tr>\n",
              "      <th>16</th>\n",
              "      <td>Turkey</td>\n",
              "      <td>779450</td>\n",
              "      <td>25000</td>\n",
              "      <td>56.0</td>\n",
              "      <td>1576</td>\n",
              "      <td>65.97</td>\n",
              "      <td>0.000072</td>\n",
              "      <td>514203.165</td>\n",
              "    </tr>\n",
              "  </tbody>\n",
              "</table>\n",
              "</div>"
            ],
            "text/plain": [
              "        Country    Area  Storks  Humans  BirthRate  SuitableAreaPercent  \\\n",
              "0       Albania   28750     100     3.2         83                55.68   \n",
              "1       Austria   83860     300     7.6         87                38.34   \n",
              "2       Belgium   30520       1     9.9        118                65.93   \n",
              "3      Bulgaria  111000    5000     9.0        117                57.99   \n",
              "4       Denmark   43100       9     5.1         59                81.46   \n",
              "5        France  544000     140    56.0        774                58.47   \n",
              "6       Germany  357000    3300    78.0        901                59.81   \n",
              "7        Greece  132000    2500    10.0        106                47.31   \n",
              "8       Holland   41900       4    15.0        188                70.96   \n",
              "9       Hungary   93000    5000    11.0        124                75.86   \n",
              "10        Italy  301280       5    57.0        551                60.30   \n",
              "11       Poland  312680   30000    38.0        610                64.09   \n",
              "12     Portugal   92390    1500    10.0        120                52.51   \n",
              "13      Romania  237500    5000    23.0        367                62.49   \n",
              "14        Spain  504750    8000    39.0        439                59.57   \n",
              "15  Switzerland   41290     150     6.7         82                43.19   \n",
              "16       Turkey  779450   25000    56.0       1576                65.97   \n",
              "\n",
              "      PopDen  AreaSuitLand  \n",
              "0   0.000111     16008.000  \n",
              "1   0.000091     32151.924  \n",
              "2   0.000324     20121.836  \n",
              "3   0.000081     64368.900  \n",
              "4   0.000118     35109.260  \n",
              "5   0.000103    318076.800  \n",
              "6   0.000218    213521.700  \n",
              "7   0.000076     62449.200  \n",
              "8   0.000358     29732.240  \n",
              "9   0.000118     70549.800  \n",
              "10  0.000189    181671.840  \n",
              "11  0.000122    200396.612  \n",
              "12  0.000108     48513.989  \n",
              "13  0.000097    148413.750  \n",
              "14  0.000077    300679.575  \n",
              "15  0.000162     17833.151  \n",
              "16  0.000072    514203.165  "
            ]
          },
          "execution_count": 19,
          "metadata": {},
          "output_type": "execute_result"
        }
      ],
      "source": [
        "df1['PopDen'] = df1['Humans']/df1['Area']\n",
        "df1['AreaSuitLand']=df1['Area']*df1['SuitableAreaPercent']/100\n",
        "df1"
      ]
    },
    {
      "cell_type": "markdown",
      "id": "a63f140a-fa70-41f6-a38b-529fdcbd0b1f",
      "metadata": {
        "id": "a63f140a-fa70-41f6-a38b-529fdcbd0b1f"
      },
      "source": [
        "### Scatter plots"
      ]
    },
    {
      "cell_type": "code",
      "execution_count": null,
      "id": "9730a925-7f19-40e7-907a-169d18e3ed23",
      "metadata": {
        "id": "9730a925-7f19-40e7-907a-169d18e3ed23",
        "outputId": "b7cc79f7-9525-44bd-ca67-de5c2a11d341"
      },
      "outputs": [
        {
          "data": {
            "text/plain": [
              "<AxesSubplot:xlabel='AreaSuitLand', ylabel='Storks'>"
            ]
          },
          "execution_count": 20,
          "metadata": {},
          "output_type": "execute_result"
        },
        {
          "data": {
            "image/png": "[encoded data removed]",
            "text/plain": [
              "<Figure size 432x864 with 2 Axes>"
            ]
          },
          "metadata": {
            "needs_background": "light"
          },
          "output_type": "display_data"
        }
      ],
      "source": [
        "fig, (a1,a2) = plt.subplots(2, 1, figsize=(6,12))\n",
        "\n",
        "df1.plot(kind='scatter',  x='PopDen', y='Storks', ax=a1)\n",
        "df1.plot(kind='scatter',  x='AreaSuitLand', y='Storks', ax=a2)\n",
        "\n"
      ]
    },
    {
      "cell_type": "markdown",
      "id": "02f26c2e-3c31-434b-b239-d78183a87687",
      "metadata": {
        "id": "02f26c2e-3c31-434b-b239-d78183a87687"
      },
      "source": [
        "### Fit regression model(Area of suitable land)"
      ]
    },
    {
      "cell_type": "code",
      "execution_count": null,
      "id": "c4e1a398-8820-4262-8c49-0d2d60f9d54d",
      "metadata": {
        "id": "c4e1a398-8820-4262-8c49-0d2d60f9d54d"
      },
      "outputs": [],
      "source": [
        "y6 = df1.Storks \n",
        "X6 = np.column_stack((df1.PopDen, df1.AreaSuitLand))"
      ]
    },
    {
      "cell_type": "code",
      "execution_count": null,
      "id": "dc10621f-a8f7-4c6a-91a4-3dcdddf00524",
      "metadata": {
        "id": "dc10621f-a8f7-4c6a-91a4-3dcdddf00524",
        "outputId": "3b54962a-905c-4eef-d3c2-d2aa6a91c8a6"
      },
      "outputs": [
        {
          "name": "stdout",
          "output_type": "stream",
          "text": [
            "The R2 coefficient of determination is 0.393\n",
            "The intercept is 1881.4\n",
            "Estimated regression coefficient for PopDen is -12132597.89 change of number of Strokes per PopDen\n",
            "Estimated regression coefficient for RestAreaSuitLand  is 0.04 change of number of Strokes per AreaSuitLand\n",
            "Root of the mean squared error: 6677.03\n"
          ]
        }
      ],
      "source": [
        "reg6 = LinearRegression().fit(X6, y6)\n",
        "print('The R2 coefficient of determination is %4.3f' % reg6.score(X6, y6))\n",
        "print('The intercept is %4.1f' % reg6.intercept_)\n",
        "beta_PopDen, beta_AreaSuitLand = reg6.coef_\n",
        "print('Estimated regression coefficient for PopDen is %4.2f' % beta_PopDen, \n",
        "      'change of number of Strokes per PopDen')\n",
        "print('Estimated regression coefficient for RestAreaSuitLand  is %4.2f' % beta_AreaSuitLand, \n",
        "      'change of number of Strokes per AreaSuitLand')\n",
        "\n",
        "y6_hat = reg6.predict(X6)\n",
        "print('Root of the mean squared error: %.2f'% mean_squared_error(y6, y6_hat, squared=False))"
      ]
    },
    {
      "cell_type": "markdown",
      "id": "1dc9fb5e-6bf1-49d8-b5f9-ed9beb8c2e42",
      "metadata": {
        "id": "1dc9fb5e-6bf1-49d8-b5f9-ed9beb8c2e42"
      },
      "source": [
        "### plots and metrics"
      ]
    },
    {
      "cell_type": "code",
      "execution_count": null,
      "id": "5c43ebad-1ead-46d2-ab2e-15012010b1e6",
      "metadata": {
        "id": "5c43ebad-1ead-46d2-ab2e-15012010b1e6",
        "outputId": "02cad124-0d01-4700-da85-b3353defc457"
      },
      "outputs": [
        {
          "data": {
            "text/plain": [
              "Text(0, 0.5, 'Actual Value')"
            ]
          },
          "execution_count": 23,
          "metadata": {},
          "output_type": "execute_result"
        },
        {
          "data": {
            "image/png": "[encoded data removed]",
            "text/plain": [
              "<Figure size 720x360 with 1 Axes>"
            ]
          },
          "metadata": {
            "needs_background": "light"
          },
          "output_type": "display_data"
        }
      ],
      "source": [
        "# Plot outputs\n",
        "fig, a = plt.subplots(1,1,figsize=(10,5))\n",
        "a.scatter(y6_hat, y6,  color='black')\n",
        "a.plot(y6_hat, y6_hat, color='blue', linewidth=3)\n",
        "\n",
        "# two_std = residuals.std() * 2\n",
        "# a.errorbar(y_hat, y, yerr=two_std, fmt='.k')\n",
        "\n",
        "a.set_xlabel('Predicted Value')\n",
        "a.set_ylabel('Actual Value')"
      ]
    },
    {
      "cell_type": "markdown",
      "id": "1feb060e-627e-476c-bda6-f9c82c68d96e",
      "metadata": {
        "id": "1feb060e-627e-476c-bda6-f9c82c68d96e"
      },
      "source": [
        "## Part2.2 bootstrap to compare RMSE"
      ]
    },
    {
      "cell_type": "code",
      "execution_count": null,
      "id": "db5ac2ea-cc74-4842-86dd-7bb52062af7c",
      "metadata": {
        "id": "db5ac2ea-cc74-4842-86dd-7bb52062af7c",
        "outputId": "50e25e86-4409-4c91-92d2-784b75ab28ce"
      },
      "outputs": [
        {
          "data": {
            "text/html": [
              "<div>\n",
              "<style scoped>\n",
              "    .dataframe tbody tr th:only-of-type {\n",
              "        vertical-align: middle;\n",
              "    }\n",
              "\n",
              "    .dataframe tbody tr th {\n",
              "        vertical-align: top;\n",
              "    }\n",
              "\n",
              "    .dataframe thead th {\n",
              "        text-align: right;\n",
              "    }\n",
              "</style>\n",
              "<table border=\"1\" class=\"dataframe\">\n",
              "  <thead>\n",
              "    <tr style=\"text-align: right;\">\n",
              "      <th></th>\n",
              "      <th>Intercept1</th>\n",
              "      <th>Beta_Area</th>\n",
              "      <th>R2_PopDen</th>\n",
              "      <th>RMSE7</th>\n",
              "      <th>Intercept2</th>\n",
              "      <th>Beta_PopDen</th>\n",
              "      <th>Beta_AreaSuitLand</th>\n",
              "      <th>R2_AreaSuitLand</th>\n",
              "      <th>RMSE8</th>\n",
              "    </tr>\n",
              "  </thead>\n",
              "  <tbody>\n",
              "    <tr>\n",
              "      <th>0</th>\n",
              "      <td>-1469.777217</td>\n",
              "      <td>0.022196</td>\n",
              "      <td>0.548302</td>\n",
              "      <td>5221.430858</td>\n",
              "      <td>243.691778</td>\n",
              "      <td>-1.281045e+07</td>\n",
              "      <td>0.034983</td>\n",
              "      <td>0.628231</td>\n",
              "      <td>4736.987113</td>\n",
              "    </tr>\n",
              "    <tr>\n",
              "      <th>1</th>\n",
              "      <td>-299.506478</td>\n",
              "      <td>0.033892</td>\n",
              "      <td>0.409353</td>\n",
              "      <td>7963.343813</td>\n",
              "      <td>2406.978882</td>\n",
              "      <td>-1.649417e+07</td>\n",
              "      <td>0.051215</td>\n",
              "      <td>0.447155</td>\n",
              "      <td>7704.299612</td>\n",
              "    </tr>\n",
              "    <tr>\n",
              "      <th>2</th>\n",
              "      <td>660.731872</td>\n",
              "      <td>0.017717</td>\n",
              "      <td>0.122420</td>\n",
              "      <td>6581.301096</td>\n",
              "      <td>1565.120663</td>\n",
              "      <td>-8.875254e+06</td>\n",
              "      <td>0.032278</td>\n",
              "      <td>0.161003</td>\n",
              "      <td>6435.000325</td>\n",
              "    </tr>\n",
              "    <tr>\n",
              "      <th>3</th>\n",
              "      <td>286.382382</td>\n",
              "      <td>0.014137</td>\n",
              "      <td>0.317713</td>\n",
              "      <td>4916.719108</td>\n",
              "      <td>1883.139400</td>\n",
              "      <td>-1.289018e+07</td>\n",
              "      <td>0.022816</td>\n",
              "      <td>0.400894</td>\n",
              "      <td>4607.270428</td>\n",
              "    </tr>\n",
              "    <tr>\n",
              "      <th>4</th>\n",
              "      <td>-709.982393</td>\n",
              "      <td>0.025477</td>\n",
              "      <td>0.437290</td>\n",
              "      <td>7487.028268</td>\n",
              "      <td>532.166362</td>\n",
              "      <td>-6.621923e+06</td>\n",
              "      <td>0.040078</td>\n",
              "      <td>0.489411</td>\n",
              "      <td>7131.864949</td>\n",
              "    </tr>\n",
              "    <tr>\n",
              "      <th>...</th>\n",
              "      <td>...</td>\n",
              "      <td>...</td>\n",
              "      <td>...</td>\n",
              "      <td>...</td>\n",
              "      <td>...</td>\n",
              "      <td>...</td>\n",
              "      <td>...</td>\n",
              "      <td>...</td>\n",
              "      <td>...</td>\n",
              "    </tr>\n",
              "    <tr>\n",
              "      <th>495</th>\n",
              "      <td>132.979850</td>\n",
              "      <td>0.024452</td>\n",
              "      <td>0.340084</td>\n",
              "      <td>6955.491795</td>\n",
              "      <td>2177.665456</td>\n",
              "      <td>-1.414610e+07</td>\n",
              "      <td>0.038969</td>\n",
              "      <td>0.401417</td>\n",
              "      <td>6624.388689</td>\n",
              "    </tr>\n",
              "    <tr>\n",
              "      <th>496</th>\n",
              "      <td>1626.936995</td>\n",
              "      <td>0.022340</td>\n",
              "      <td>0.223305</td>\n",
              "      <td>9099.178257</td>\n",
              "      <td>2772.386798</td>\n",
              "      <td>-1.102521e+07</td>\n",
              "      <td>0.037737</td>\n",
              "      <td>0.269052</td>\n",
              "      <td>8827.143327</td>\n",
              "    </tr>\n",
              "    <tr>\n",
              "      <th>497</th>\n",
              "      <td>945.729711</td>\n",
              "      <td>0.024160</td>\n",
              "      <td>0.136802</td>\n",
              "      <td>8296.088021</td>\n",
              "      <td>4141.584142</td>\n",
              "      <td>-2.720971e+07</td>\n",
              "      <td>0.044611</td>\n",
              "      <td>0.221181</td>\n",
              "      <td>7880.184937</td>\n",
              "    </tr>\n",
              "    <tr>\n",
              "      <th>498</th>\n",
              "      <td>1260.278879</td>\n",
              "      <td>0.004510</td>\n",
              "      <td>0.080743</td>\n",
              "      <td>2402.313957</td>\n",
              "      <td>4774.260827</td>\n",
              "      <td>-2.221381e+07</td>\n",
              "      <td>0.005077</td>\n",
              "      <td>0.415816</td>\n",
              "      <td>1915.077223</td>\n",
              "    </tr>\n",
              "    <tr>\n",
              "      <th>499</th>\n",
              "      <td>-922.546911</td>\n",
              "      <td>0.024247</td>\n",
              "      <td>0.375672</td>\n",
              "      <td>7859.660523</td>\n",
              "      <td>2658.352733</td>\n",
              "      <td>-2.374576e+07</td>\n",
              "      <td>0.037086</td>\n",
              "      <td>0.447603</td>\n",
              "      <td>7393.039947</td>\n",
              "    </tr>\n",
              "  </tbody>\n",
              "</table>\n",
              "<p>500 rows × 9 columns</p>\n",
              "</div>"
            ],
            "text/plain": [
              "      Intercept1  Beta_Area  R2_PopDen        RMSE7   Intercept2  \\\n",
              "0   -1469.777217   0.022196   0.548302  5221.430858   243.691778   \n",
              "1    -299.506478   0.033892   0.409353  7963.343813  2406.978882   \n",
              "2     660.731872   0.017717   0.122420  6581.301096  1565.120663   \n",
              "3     286.382382   0.014137   0.317713  4916.719108  1883.139400   \n",
              "4    -709.982393   0.025477   0.437290  7487.028268   532.166362   \n",
              "..           ...        ...        ...          ...          ...   \n",
              "495   132.979850   0.024452   0.340084  6955.491795  2177.665456   \n",
              "496  1626.936995   0.022340   0.223305  9099.178257  2772.386798   \n",
              "497   945.729711   0.024160   0.136802  8296.088021  4141.584142   \n",
              "498  1260.278879   0.004510   0.080743  2402.313957  4774.260827   \n",
              "499  -922.546911   0.024247   0.375672  7859.660523  2658.352733   \n",
              "\n",
              "      Beta_PopDen  Beta_AreaSuitLand  R2_AreaSuitLand        RMSE8  \n",
              "0   -1.281045e+07           0.034983         0.628231  4736.987113  \n",
              "1   -1.649417e+07           0.051215         0.447155  7704.299612  \n",
              "2   -8.875254e+06           0.032278         0.161003  6435.000325  \n",
              "3   -1.289018e+07           0.022816         0.400894  4607.270428  \n",
              "4   -6.621923e+06           0.040078         0.489411  7131.864949  \n",
              "..            ...                ...              ...          ...  \n",
              "495 -1.414610e+07           0.038969         0.401417  6624.388689  \n",
              "496 -1.102521e+07           0.037737         0.269052  8827.143327  \n",
              "497 -2.720971e+07           0.044611         0.221181  7880.184937  \n",
              "498 -2.221381e+07           0.005077         0.415816  1915.077223  \n",
              "499 -2.374576e+07           0.037086         0.447603  7393.039947  \n",
              "\n",
              "[500 rows x 9 columns]"
            ]
          },
          "execution_count": 24,
          "metadata": {},
          "output_type": "execute_result"
        }
      ],
      "source": [
        "def doRMSE(df1) :\n",
        "    y7 = df1.Storks\n",
        "    X7= np.column_stack([df1.Area])\n",
        "    \n",
        "    y8 = df1.Storks\n",
        "    X8= np.column_stack([df1.PopDen, df1.AreaSuitLand])\n",
        "    \n",
        "    reg7 = LinearRegression().fit(X7, y7)\n",
        "    reg8 = LinearRegression().fit(X8, y8)\n",
        "    \n",
        "    \n",
        "    beta_Area = reg7.coef_\n",
        "    beta_PopDen, beta_AreaSuitLand = reg8.coef_\n",
        "    \n",
        "    y7_hat = reg7.predict(X7)\n",
        "    RMSE7 = sqrt(mean_squared_error(y7,y7_hat))\n",
        "    \n",
        "    y8_hat = reg8.predict(X8)\n",
        "    RMSE8 = sqrt(mean_squared_error(y8,y8_hat))\n",
        "    \n",
        "    return [reg7.intercept_, beta_Area, reg7.score(X7, y7),RMSE7, reg8.intercept_, beta_PopDen, beta_AreaSuitLand, reg8.score(X8, y8),RMSE8] \n",
        "\n",
        "boot_RMSE = bootstrapC(df1, [ 'Intercept1', 'Beta_Area', 'R2_PopDen', 'RMSE7', 'Intercept2', 'Beta_PopDen', 'Beta_AreaSuitLand', 'R2_AreaSuitLand', 'RMSE8' ], 500, doRMSE) \n",
        "\n",
        "boot_RMSE\n",
        "    "
      ]
    },
    {
      "cell_type": "markdown",
      "id": "c85ab263-0721-4b27-b019-671974f92a3a",
      "metadata": {
        "id": "c85ab263-0721-4b27-b019-671974f92a3a"
      },
      "source": [
        "### Estimating RMSE difference"
      ]
    },
    {
      "cell_type": "code",
      "execution_count": null,
      "id": "d33af4a2-d34d-4e68-837c-54786e055b40",
      "metadata": {
        "id": "d33af4a2-d34d-4e68-837c-54786e055b40",
        "outputId": "ae33c383-98da-4ff7-a466-fcc86bdf74b2"
      },
      "outputs": [
        {
          "data": {
            "text/html": [
              "<div>\n",
              "<style scoped>\n",
              "    .dataframe tbody tr th:only-of-type {\n",
              "        vertical-align: middle;\n",
              "    }\n",
              "\n",
              "    .dataframe tbody tr th {\n",
              "        vertical-align: top;\n",
              "    }\n",
              "\n",
              "    .dataframe thead th {\n",
              "        text-align: right;\n",
              "    }\n",
              "</style>\n",
              "<table border=\"1\" class=\"dataframe\">\n",
              "  <thead>\n",
              "    <tr style=\"text-align: right;\">\n",
              "      <th></th>\n",
              "      <th>Intercept1</th>\n",
              "      <th>Beta_Area</th>\n",
              "      <th>R2_PopDen</th>\n",
              "      <th>RMSE7</th>\n",
              "      <th>Intercept2</th>\n",
              "      <th>Beta_PopDen</th>\n",
              "      <th>Beta_AreaSuitLand</th>\n",
              "      <th>R2_AreaSuitLand</th>\n",
              "      <th>RMSE8</th>\n",
              "      <th>RMSE_Diff</th>\n",
              "    </tr>\n",
              "  </thead>\n",
              "  <tbody>\n",
              "    <tr>\n",
              "      <th>0</th>\n",
              "      <td>-1469.777217</td>\n",
              "      <td>0.022196</td>\n",
              "      <td>0.548302</td>\n",
              "      <td>5221.430858</td>\n",
              "      <td>243.691778</td>\n",
              "      <td>-1.281045e+07</td>\n",
              "      <td>0.034983</td>\n",
              "      <td>0.628231</td>\n",
              "      <td>4736.987113</td>\n",
              "      <td>484.443746</td>\n",
              "    </tr>\n",
              "    <tr>\n",
              "      <th>1</th>\n",
              "      <td>-299.506478</td>\n",
              "      <td>0.033892</td>\n",
              "      <td>0.409353</td>\n",
              "      <td>7963.343813</td>\n",
              "      <td>2406.978882</td>\n",
              "      <td>-1.649417e+07</td>\n",
              "      <td>0.051215</td>\n",
              "      <td>0.447155</td>\n",
              "      <td>7704.299612</td>\n",
              "      <td>259.044200</td>\n",
              "    </tr>\n",
              "    <tr>\n",
              "      <th>2</th>\n",
              "      <td>660.731872</td>\n",
              "      <td>0.017717</td>\n",
              "      <td>0.122420</td>\n",
              "      <td>6581.301096</td>\n",
              "      <td>1565.120663</td>\n",
              "      <td>-8.875254e+06</td>\n",
              "      <td>0.032278</td>\n",
              "      <td>0.161003</td>\n",
              "      <td>6435.000325</td>\n",
              "      <td>146.300771</td>\n",
              "    </tr>\n",
              "    <tr>\n",
              "      <th>3</th>\n",
              "      <td>286.382382</td>\n",
              "      <td>0.014137</td>\n",
              "      <td>0.317713</td>\n",
              "      <td>4916.719108</td>\n",
              "      <td>1883.139400</td>\n",
              "      <td>-1.289018e+07</td>\n",
              "      <td>0.022816</td>\n",
              "      <td>0.400894</td>\n",
              "      <td>4607.270428</td>\n",
              "      <td>309.448680</td>\n",
              "    </tr>\n",
              "    <tr>\n",
              "      <th>4</th>\n",
              "      <td>-709.982393</td>\n",
              "      <td>0.025477</td>\n",
              "      <td>0.437290</td>\n",
              "      <td>7487.028268</td>\n",
              "      <td>532.166362</td>\n",
              "      <td>-6.621923e+06</td>\n",
              "      <td>0.040078</td>\n",
              "      <td>0.489411</td>\n",
              "      <td>7131.864949</td>\n",
              "      <td>355.163319</td>\n",
              "    </tr>\n",
              "    <tr>\n",
              "      <th>...</th>\n",
              "      <td>...</td>\n",
              "      <td>...</td>\n",
              "      <td>...</td>\n",
              "      <td>...</td>\n",
              "      <td>...</td>\n",
              "      <td>...</td>\n",
              "      <td>...</td>\n",
              "      <td>...</td>\n",
              "      <td>...</td>\n",
              "      <td>...</td>\n",
              "    </tr>\n",
              "    <tr>\n",
              "      <th>495</th>\n",
              "      <td>132.979850</td>\n",
              "      <td>0.024452</td>\n",
              "      <td>0.340084</td>\n",
              "      <td>6955.491795</td>\n",
              "      <td>2177.665456</td>\n",
              "      <td>-1.414610e+07</td>\n",
              "      <td>0.038969</td>\n",
              "      <td>0.401417</td>\n",
              "      <td>6624.388689</td>\n",
              "      <td>331.103106</td>\n",
              "    </tr>\n",
              "    <tr>\n",
              "      <th>496</th>\n",
              "      <td>1626.936995</td>\n",
              "      <td>0.022340</td>\n",
              "      <td>0.223305</td>\n",
              "      <td>9099.178257</td>\n",
              "      <td>2772.386798</td>\n",
              "      <td>-1.102521e+07</td>\n",
              "      <td>0.037737</td>\n",
              "      <td>0.269052</td>\n",
              "      <td>8827.143327</td>\n",
              "      <td>272.034930</td>\n",
              "    </tr>\n",
              "    <tr>\n",
              "      <th>497</th>\n",
              "      <td>945.729711</td>\n",
              "      <td>0.024160</td>\n",
              "      <td>0.136802</td>\n",
              "      <td>8296.088021</td>\n",
              "      <td>4141.584142</td>\n",
              "      <td>-2.720971e+07</td>\n",
              "      <td>0.044611</td>\n",
              "      <td>0.221181</td>\n",
              "      <td>7880.184937</td>\n",
              "      <td>415.903085</td>\n",
              "    </tr>\n",
              "    <tr>\n",
              "      <th>498</th>\n",
              "      <td>1260.278879</td>\n",
              "      <td>0.004510</td>\n",
              "      <td>0.080743</td>\n",
              "      <td>2402.313957</td>\n",
              "      <td>4774.260827</td>\n",
              "      <td>-2.221381e+07</td>\n",
              "      <td>0.005077</td>\n",
              "      <td>0.415816</td>\n",
              "      <td>1915.077223</td>\n",
              "      <td>487.236733</td>\n",
              "    </tr>\n",
              "    <tr>\n",
              "      <th>499</th>\n",
              "      <td>-922.546911</td>\n",
              "      <td>0.024247</td>\n",
              "      <td>0.375672</td>\n",
              "      <td>7859.660523</td>\n",
              "      <td>2658.352733</td>\n",
              "      <td>-2.374576e+07</td>\n",
              "      <td>0.037086</td>\n",
              "      <td>0.447603</td>\n",
              "      <td>7393.039947</td>\n",
              "      <td>466.620576</td>\n",
              "    </tr>\n",
              "  </tbody>\n",
              "</table>\n",
              "<p>500 rows × 10 columns</p>\n",
              "</div>"
            ],
            "text/plain": [
              "      Intercept1  Beta_Area  R2_PopDen        RMSE7   Intercept2  \\\n",
              "0   -1469.777217   0.022196   0.548302  5221.430858   243.691778   \n",
              "1    -299.506478   0.033892   0.409353  7963.343813  2406.978882   \n",
              "2     660.731872   0.017717   0.122420  6581.301096  1565.120663   \n",
              "3     286.382382   0.014137   0.317713  4916.719108  1883.139400   \n",
              "4    -709.982393   0.025477   0.437290  7487.028268   532.166362   \n",
              "..           ...        ...        ...          ...          ...   \n",
              "495   132.979850   0.024452   0.340084  6955.491795  2177.665456   \n",
              "496  1626.936995   0.022340   0.223305  9099.178257  2772.386798   \n",
              "497   945.729711   0.024160   0.136802  8296.088021  4141.584142   \n",
              "498  1260.278879   0.004510   0.080743  2402.313957  4774.260827   \n",
              "499  -922.546911   0.024247   0.375672  7859.660523  2658.352733   \n",
              "\n",
              "      Beta_PopDen  Beta_AreaSuitLand  R2_AreaSuitLand        RMSE8   RMSE_Diff  \n",
              "0   -1.281045e+07           0.034983         0.628231  4736.987113  484.443746  \n",
              "1   -1.649417e+07           0.051215         0.447155  7704.299612  259.044200  \n",
              "2   -8.875254e+06           0.032278         0.161003  6435.000325  146.300771  \n",
              "3   -1.289018e+07           0.022816         0.400894  4607.270428  309.448680  \n",
              "4   -6.621923e+06           0.040078         0.489411  7131.864949  355.163319  \n",
              "..            ...                ...              ...          ...         ...  \n",
              "495 -1.414610e+07           0.038969         0.401417  6624.388689  331.103106  \n",
              "496 -1.102521e+07           0.037737         0.269052  8827.143327  272.034930  \n",
              "497 -2.720971e+07           0.044611         0.221181  7880.184937  415.903085  \n",
              "498 -2.221381e+07           0.005077         0.415816  1915.077223  487.236733  \n",
              "499 -2.374576e+07           0.037086         0.447603  7393.039947  466.620576  \n",
              "\n",
              "[500 rows x 10 columns]"
            ]
          },
          "execution_count": 25,
          "metadata": {},
          "output_type": "execute_result"
        }
      ],
      "source": [
        "boot_RMSE['RMSE_Diff'] =boot_RMSE['RMSE7'] - boot_RMSE['RMSE8']\n",
        "boot_RMSE"
      ]
    },
    {
      "cell_type": "markdown",
      "id": "0ae776ea-c00d-4d6d-a73f-b04e5969bb6a",
      "metadata": {
        "id": "0ae776ea-c00d-4d6d-a73f-b04e5969bb6a"
      },
      "source": [
        "### Plotting a distribution of the differences"
      ]
    },
    {
      "cell_type": "code",
      "execution_count": null,
      "id": "ff5d7400-5528-4bcd-b81f-20854de9e72d",
      "metadata": {
        "id": "ff5d7400-5528-4bcd-b81f-20854de9e72d",
        "outputId": "2b4936cd-25b3-49b4-c1a6-d5125f769f64"
      },
      "outputs": [
        {
          "data": {
            "text/plain": [
              "<AxesSubplot:>"
            ]
          },
          "execution_count": 26,
          "metadata": {},
          "output_type": "execute_result"
        },
        {
          "data": {
            "image/png": "[encoded data removed]",
            "text/plain": [
              "<Figure size 432x288 with 1 Axes>"
            ]
          },
          "metadata": {
            "needs_background": "light"
          },
          "output_type": "display_data"
        }
      ],
      "source": [
        "boot_RMSE['RMSE_Diff'].hist()"
      ]
    },
    {
      "cell_type": "markdown",
      "id": "ea9f5ea3-42eb-49b1-bde7-9b79ddd5a3a5",
      "metadata": {
        "id": "ea9f5ea3-42eb-49b1-bde7-9b79ddd5a3a5"
      },
      "source": [
        "### Confidence intervals for the difference in the RMSE values "
      ]
    },
    {
      "cell_type": "code",
      "execution_count": null,
      "id": "a63b2b23-04e4-405c-a104-03e536218310",
      "metadata": {
        "id": "a63b2b23-04e4-405c-a104-03e536218310",
        "outputId": "6b80a793-5509-4944-ab36-a721a5a383fc"
      },
      "outputs": [
        {
          "name": "stdout",
          "output_type": "stream",
          "text": [
            "90% range is 146.577 to 544.743\n",
            "95% range is 88.871 to 657.359\n",
            "99% range is 24.636 to 1414.385\n"
          ]
        }
      ],
      "source": [
        "print('90%% range is %4.3f to %4.3f' % \n",
        "      (boot_RMSE.RMSE_Diff.quantile(0.1), boot_RMSE.RMSE_Diff.quantile(0.9)))\n",
        "print('95%% range is %4.3f to %4.3f' % \n",
        "      (boot_RMSE.RMSE_Diff.quantile(0.05), boot_RMSE.RMSE_Diff.quantile(0.95)))\n",
        "print('99%% range is %4.3f to %4.3f' % \n",
        "      (boot_RMSE.RMSE_Diff.quantile(0.01), boot_RMSE.RMSE_Diff.quantile(0.99)))"
      ]
    }
  ],
  "metadata": {
    "kernelspec": {
      "display_name": "Python 3 (ipykernel)",
      "language": "python",
      "name": "python3"
    },
    "language_info": {
      "codemirror_mode": {
        "name": "ipython",
        "version": 3
      },
      "file_extension": ".py",
      "mimetype": "text/x-python",
      "name": "python",
      "nbconvert_exporter": "python",
      "pygments_lexer": "ipython3",
      "version": "3.9.6"
    },
    "colab": {
      "provenance": [],
      "collapsed_sections": []
    }
  },
  "nbformat": 4,
  "nbformat_minor": 5
}